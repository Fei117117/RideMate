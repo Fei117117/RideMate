{
 "cells": [
  {
   "cell_type": "code",
   "execution_count": 2,
   "id": "7a17bb52",
   "metadata": {},
   "outputs": [],
   "source": [
    "import sqlalchemy as sqla\n",
    "import traceback\n",
    "import datetime\n",
    "import time\n",
    "import requests\n",
    "import json\n",
    "from pprint import pprint"
   ]
  },
  {
   "cell_type": "markdown",
   "id": "040d4e28",
   "metadata": {},
   "source": [
    "Station data"
   ]
  },
  {
   "cell_type": "code",
   "execution_count": 4,
   "id": "369e3f06",
   "metadata": {},
   "outputs": [],
   "source": [
    "APIKEY=\"dc37139a1f5e7dbb1220eb237bc420120b3381f4\"\n",
    "NAME=\"Dublin\"\n",
    "STATIONS_URL=\"https://api.jcdecaux.com/vls/v1/stations\" \n",
    "\n",
    "r=requests.get(STATIONS_URL,params={\"apiKey\":APIKEY,\"contract\":NAME})\n",
    "stations=json.loads(r.text)"
   ]
  },
  {
   "cell_type": "code",
   "execution_count": 14,
   "id": "d7ae9372",
   "metadata": {},
   "outputs": [
    {
     "name": "stdout",
     "output_type": "stream",
     "text": [
      "53.349562\n",
      "53.3537415547453\n",
      "53.336021\n",
      "53.359405\n",
      "53.336597\n",
      "53.33796\n",
      "53.343368\n",
      "53.334123\n",
      "53.344304\n",
      "53.338755\n",
      "53.347777\n",
      "53.336074\n",
      "53.330091\n",
      "53.350929\n",
      "53.341515\n",
      "53.344603\n",
      "53.340927\n",
      "53.348279\n",
      "53.35893\n",
      "53.357841\n",
      "53.344115\n",
      "53.343893\n",
      "53.347477\n",
      "53.339005\n",
      "53.344153\n",
      "53.334295\n",
      "53.340803\n",
      "53.351464\n",
      "53.333653\n",
      "53.343105\n",
      "53.341428\n",
      "53.338614\n",
      "53.341833\n",
      "53.346637\n",
      "53.343034\n",
      "53.346867\n",
      "53.3547\n",
      "53.33403\n",
      "53.346026\n",
      "53.330662\n",
      "53.342113\n",
      "53.357043\n",
      "53.348875\n",
      "53.346874\n",
      "53.347932\n",
      "53.334432\n",
      "53.343565\n",
      "53.359624\n",
      "53.354929\n",
      "53.350974\n",
      "53.337132\n",
      "53.339218\n",
      "53.347122\n",
      "53.355173\n",
      "53.350291\n",
      "53.354845\n",
      "53.335742\n",
      "53.343653\n",
      "53.347884\n",
      "53.341288\n",
      "53.347508\n",
      "53.341805\n",
      "53.341645\n",
      "53.342296\n",
      "53.337757\n",
      "53.358115\n",
      "53.342638\n",
      "53.339434\n",
      "53.339334\n",
      "53.337494\n",
      "53.35561\n",
      "53.343897\n",
      "53.346985\n",
      "53.355954\n",
      "53.337824\n",
      "53.346603\n",
      "53.345922\n",
      "53.35023\n",
      "53.356307\n",
      "53.359246\n",
      "53.330362\n",
      "53.359967\n",
      "53.356769\n",
      "53.343456\n",
      "53.35463\n",
      "53.356717\n",
      "53.339764\n",
      "53.34744\n",
      "53.355473\n",
      "53.347972\n",
      "53.347692\n",
      "53.344007\n",
      "53.347106\n",
      "53.352149\n",
      "53.345203\n",
      "53.353331\n",
      "53.338776\n",
      "53.359157\n",
      "53.349013\n",
      "53.358437\n",
      "53.335211\n",
      "53.339629\n",
      "53.341359\n",
      "53.332763\n",
      "53.351182\n",
      "53.3483\n",
      "53.346057\n",
      "53.354663\n",
      "53.356299\n",
      "53.332383\n",
      "53.340714\n",
      "53.347802\n",
      "53.34218\n",
      "53.3488\n"
     ]
    }
   ],
   "source": [
    "for station in stations:\n",
    "    print(station['position']['lat'])"
   ]
  },
  {
   "cell_type": "code",
   "execution_count": 9,
   "id": "0e07e7e5",
   "metadata": {},
   "outputs": [],
   "source": [
    "WEATHER_URL=\"https://api.open-meteo.com/v1/forecast\"\n",
    "HOURLY=\"temperature_2m\",\"precipitation_probability\",\"weathercode\",\"windspeed_10m\"\n",
    "\n",
    "weather_station = {}\n",
    "\n",
    "for station in stations:\n",
    "    LATITUDE = station['position']['lat']\n",
    "    LONGITUDE = station['position']['lng']\n",
    "    weather=requests.get(WEATHER_URL,params={\"latitude\":LATITUDE,\"longitude\":LONGITUDE,\"hourly\":HOURLY,\"current_weather\":\"true\",\"timeformat\":\"unixtime\"})\n",
    "    weather_dict=json.loads(weather.text)\n",
    "    weather_station[station['number']]=weather_dict\n",
    "# pprint(weather_dict)"
   ]
  },
  {
   "cell_type": "code",
   "execution_count": 55,
   "id": "eb6734c8",
   "metadata": {},
   "outputs": [],
   "source": [
    "import sqlalchemy\n",
    "from sqlalchemy import create_engine\n",
    "import traceback\n",
    "import glob\n",
    "import os\n",
    "from pprint import pprint\n",
    "import simplejson as json\n",
    "import requests\n",
    "import time\n",
    "from IPython.display import display\n",
    "\n",
    "URI = \"dbbikes.c06rsktpo8sk.us-east-1.rds.amazonaws.com\"\n",
    "PORT = \"3306\"\n",
    "DB = \"dbbikes\"\n",
    "USER = \"minhly\"\n",
    "PASSWORD = \"22201371\"\n",
    "engine = create_engine(\"mysql://{}:{}@{}:{}/{}\".format(USER, PASSWORD, URI, PORT, DB), echo=True)\n"
   ]
  },
  {
   "cell_type": "code",
   "execution_count": 54,
   "id": "e1d2be27",
   "metadata": {},
   "outputs": [
    {
     "name": "stdout",
     "output_type": "stream",
     "text": [
      "<class 'dict'>\n",
      "<class 'dict_keys'>\n",
      "{'latitude': 53.35, 'longitude': -6.28, 'generationtime_ms': 2.897024154663086, 'utc_offset_seconds': 0, 'timezone': 'GMT', 'timezone_abbreviation': 'GMT', 'elevation': 15.0, 'current_weather': {'temperature': 6.0, 'windspeed': 11.8, 'winddirection': 20.0, 'weathercode': 51, 'time': 1677621600}, 'hourly_units': {'time': 'unixtime', 'temperature_2m': '°C', 'precipitation_probability': '%', 'weathercode': 'wmo code', 'windspeed_10m': 'km/h'}, 'hourly': {'time': [1677542400, 1677546000, 1677549600, 1677553200, 1677556800, 1677560400, 1677564000, 1677567600, 1677571200, 1677574800, 1677578400, 1677582000, 1677585600, 1677589200, 1677592800, 1677596400, 1677600000, 1677603600, 1677607200, 1677610800, 1677614400, 1677618000, 1677621600, 1677625200, 1677628800, 1677632400, 1677636000, 1677639600, 1677643200, 1677646800, 1677650400, 1677654000, 1677657600, 1677661200, 1677664800, 1677668400, 1677672000, 1677675600, 1677679200, 1677682800, 1677686400, 1677690000, 1677693600, 1677697200, 1677700800, 1677704400, 1677708000, 1677711600, 1677715200, 1677718800, 1677722400, 1677726000, 1677729600, 1677733200, 1677736800, 1677740400, 1677744000, 1677747600, 1677751200, 1677754800, 1677758400, 1677762000, 1677765600, 1677769200, 1677772800, 1677776400, 1677780000, 1677783600, 1677787200, 1677790800, 1677794400, 1677798000, 1677801600, 1677805200, 1677808800, 1677812400, 1677816000, 1677819600, 1677823200, 1677826800, 1677830400, 1677834000, 1677837600, 1677841200, 1677844800, 1677848400, 1677852000, 1677855600, 1677859200, 1677862800, 1677866400, 1677870000, 1677873600, 1677877200, 1677880800, 1677884400, 1677888000, 1677891600, 1677895200, 1677898800, 1677902400, 1677906000, 1677909600, 1677913200, 1677916800, 1677920400, 1677924000, 1677927600, 1677931200, 1677934800, 1677938400, 1677942000, 1677945600, 1677949200, 1677952800, 1677956400, 1677960000, 1677963600, 1677967200, 1677970800, 1677974400, 1677978000, 1677981600, 1677985200, 1677988800, 1677992400, 1677996000, 1677999600, 1678003200, 1678006800, 1678010400, 1678014000, 1678017600, 1678021200, 1678024800, 1678028400, 1678032000, 1678035600, 1678039200, 1678042800, 1678046400, 1678050000, 1678053600, 1678057200, 1678060800, 1678064400, 1678068000, 1678071600, 1678075200, 1678078800, 1678082400, 1678086000, 1678089600, 1678093200, 1678096800, 1678100400, 1678104000, 1678107600, 1678111200, 1678114800, 1678118400, 1678122000, 1678125600, 1678129200, 1678132800, 1678136400, 1678140000, 1678143600], 'temperature_2m': [7.0, 7.4, 7.7, 7.1, 6.7, 5.2, 6.0, 7.0, 6.6, 7.0, 7.9, 8.0, 7.7, 7.8, 8.2, 8.2, 7.9, 7.5, 7.1, 6.5, 6.5, 6.2, 6.0, 6.8, 7.3, 7.1, 7.1, 7.1, 7.0, 6.8, 6.7, 7.3, 6.9, 6.9, 7.3, 7.2, 7.9, 7.7, 7.0, 7.3, 7.6, 7.5, 7.2, 6.9, 7.0, 6.8, 7.0, 7.2, 7.1, 7.2, 7.3, 7.2, 7.1, 7.1, 6.7, 5.6, 5.6, 6.3, 6.7, 7.0, 7.0, 7.5, 7.9, 7.8, 7.4, 6.7, 5.8, 4.5, 3.8, 3.5, 2.9, 2.7, 3.1, 3.4, 3.7, 3.4, 2.9, 2.8, 2.8, 3.3, 3.5, 4.4, 5.1, 6.0, 7.1, 7.8, 8.3, 8.6, 8.2, 7.5, 6.7, 5.5, 4.4, 3.4, 2.7, 2.6, 3.0, 2.8, 2.9, 3.0, 3.1, 3.6, 3.8, 3.4, 3.4, 3.8, 4.8, 6.1, 7.4, 7.8, 7.9, 7.8, 7.7, 7.4, 6.9, 6.4, 5.7, 4.7, 3.8, 2.7, 1.6, 1.2, 1.1, 1.0, 0.9, 0.9, 1.0, 1.2, 1.4, 2.1, 3.4, 5.1, 6.9, 7.6, 8.0, 8.2, 8.0, 7.5, 7.0, 5.3, 4.3, 3.4, 3.3, 3.6, 3.9, 4.0, 4.1, 4.2, 4.2, 4.1, 4.0, 3.9, 3.7, 3.7, 4.1, 4.7, 5.4, 5.9, 6.2, 6.4, 6.2, 5.6, 4.8, 4.0, 3.2, 2.2, 1.6, 1.1], 'precipitation_probability': [0, 1, 2, 3, 2, 1, 0, 0, 0, 0, 0, 0, 0, 0, 0, 0, 0, 0, 0, 0, 0, 0, 1, 2, 3, 2, 1, 0, 0, 0, 0, 0, 0, 0, 2, 4, 6, 6, 6, 6, 5, 4, 3, 6, 10, 13, 20, 28, 35, 32, 29, 26, 27, 28, 29, 34, 40, 45, 39, 32, 26, 19, 13, 6, 4, 2, 0, 0, 0, 0, 0, 0, 0, 0, 0, 0, 1, 2, 3, 2, 1, 0, 0, 0, 0, 0, 0, 0, 0, 0, 0, 0, 0, 0, 0, 0, 0, 0, 0, 0, 0, 0, 0, 0, 0, 0, 0, 0, 0, 1, 2, 3, 3, 3, 3, 2, 1, 0, 2, 4, 6, 5, 4, 3, 3, 3, 3, 4, 5, 6, 8, 11, 13, 13, 13, 13, 13, 13, 13, 11, 8, 6, 5, 4, 3, 3, 3, 3, 3, 3, 3, 4, 5, 6, 5, 4, 3, 7, 12, 16, 16, 16, 16, 13, 9, 6, 6, 6], 'weathercode': [3, 3, 3, 2, 2, 3, 3, 3, 51, 51, 2, 3, 3, 3, 3, 3, 3, 3, 3, 51, 3, 51, 51, 3, 3, 2, 3, 3, 3, 3, 2, 2, 2, 2, 2, 3, 51, 2, 2, 1, 0, 1, 2, 2, 51, 51, 51, 2, 51, 51, 51, 51, 53, 51, 51, 51, 1, 51, 51, 51, 51, 1, 0, 1, 2, 1, 0, 1, 1, 1, 1, 3, 3, 2, 2, 1, 1, 1, 2, 3, 3, 3, 3, 2, 1, 1, 1, 2, 2, 2, 2, 1, 0, 0, 1, 2, 2, 2, 3, 3, 3, 3, 3, 2, 2, 2, 3, 3, 3, 2, 2, 2, 2, 2, 2, 0, 0, 0, 45, 45, 45, 1, 1, 1, 3, 3, 3, 3, 3, 3, 3, 3, 3, 3, 3, 3, 3, 3, 3, 1, 1, 1, 3, 3, 3, 3, 3, 3, 2, 2, 2, 3, 3, 3, 2, 2, 2, 3, 3, 3, 2, 2, 2, 0, 0, 0, 1, 1], 'windspeed_10m': [7.9, 8.3, 8.4, 7.1, 6.7, 8.6, 5.4, 10.2, 8.5, 10.8, 15.3, 18.0, 15.8, 14.7, 14.8, 16.1, 14.8, 15.3, 14.8, 11.3, 12.1, 13.8, 11.8, 12.4, 13.7, 14.1, 12.8, 15.8, 14.5, 12.9, 10.6, 12.6, 15.9, 13.3, 14.2, 16.6, 14.7, 15.3, 11.0, 15.8, 16.6, 15.8, 15.3, 15.0, 15.2, 12.6, 12.0, 15.9, 14.5, 13.8, 14.0, 14.5, 13.8, 12.1, 11.8, 13.8, 13.5, 13.5, 10.9, 8.8, 9.0, 10.1, 11.8, 10.9, 10.2, 10.3, 8.7, 8.3, 7.6, 5.9, 3.3, 2.9, 4.0, 5.8, 6.9, 7.3, 7.3, 8.7, 9.3, 2.3, 2.3, 2.9, 2.7, 3.5, 3.8, 4.6, 5.9, 7.1, 9.0, 8.7, 6.9, 4.6, 4.7, 4.2, 5.4, 4.4, 1.1, 2.6, 6.5, 8.8, 9.5, 10.2, 10.9, 3.6, 3.7, 3.6, 3.2, 4.0, 6.1, 7.2, 8.2, 8.9, 8.7, 7.8, 6.4, 5.0, 3.1, 1.8, 2.3, 2.6, 3.6, 4.0, 4.3, 4.4, 4.5, 4.6, 4.7, 4.7, 4.6, 4.7, 5.8, 7.7, 9.8, 10.8, 11.3, 11.6, 11.4, 10.5, 9.8, 4.8, 1.5, 4.5, 6.6, 8.4, 10.4, 11.6, 12.8, 13.6, 13.9, 14.1, 14.5, 15.7, 17.7, 20.2, 21.1, 21.0, 21.0, 21.3, 21.3, 20.7, 19.3, 17.3, 14.8, 13.0, 11.8, 10.7, 10.4, 10.7]}}\n",
      "2023-03-01 04:17:54,653 INFO sqlalchemy.engine.Engine SELECT DATABASE()\n",
      "2023-03-01 04:17:54,657 INFO sqlalchemy.engine.Engine [raw sql] ()\n",
      "2023-03-01 04:17:54,863 INFO sqlalchemy.engine.Engine SELECT @@sql_mode\n",
      "2023-03-01 04:17:54,866 INFO sqlalchemy.engine.Engine [raw sql] ()\n",
      "2023-03-01 04:17:54,969 INFO sqlalchemy.engine.Engine SELECT @@lower_case_table_names\n",
      "2023-03-01 04:17:54,971 INFO sqlalchemy.engine.Engine [raw sql] ()\n",
      "2023-03-01 04:17:55,179 INFO sqlalchemy.engine.Engine insert into weather values(%s,%s,%s,%s,%s,%s,%s,%s,%s,%s)\n",
      "2023-03-01 04:17:55,182 INFO sqlalchemy.engine.Engine [raw sql] {'latitude': 53.35, 'longitude': -6.28, 'generationtime_ms': 2.897024154663086, 'utc_offset_seconds': 0, 'timezone': 'GMT', 'timezone_abbreviation': 'GMT', 'elevation': 15.0, 'current_weather': {'temperature': 6.0, 'windspeed': 11.8, 'winddirection': 20.0, 'weathercode': 51, 'time': 1677621600}, 'hourly_units': {'time': 'unixtime', 'temperature_2m': '°C', 'precipitation_probability': '%', 'weathercode': 'wmo code', 'windspeed_10m': 'km/h'}, 'hourly': {'time': [1677542400, 1677546000, 1677549600, 1677553200, 1677556800, 1677560400, 1677564000, 1677567600, 1677571200, 1677574800, 1677578400, 16775820 ... (4646 characters truncated) ...  8.4, 10.4, 11.6, 12.8, 13.6, 13.9, 14.1, 14.5, 15.7, 17.7, 20.2, 21.1, 21.0, 21.0, 21.3, 21.3, 20.7, 19.3, 17.3, 14.8, 13.0, 11.8, 10.7, 10.4, 10.7]}}\n",
      "2023-03-01 04:17:55,187 INFO sqlalchemy.engine.Engine ROLLBACK\n"
     ]
    },
    {
     "ename": "UnicodeEncodeError",
     "evalue": "'ascii' codec can't encode character '\\xb0' in position 40: ordinal not in range(128)",
     "output_type": "error",
     "traceback": [
      "\u001b[0;31m---------------------------------------------------------------------------\u001b[0m",
      "\u001b[0;31mUnicodeEncodeError\u001b[0m                        Traceback (most recent call last)",
      "Cell \u001b[0;32mIn[54], line 25\u001b[0m\n\u001b[1;32m     23\u001b[0m         \u001b[38;5;28;01mbreak\u001b[39;00m\n\u001b[1;32m     24\u001b[0m     \u001b[38;5;28;01mreturn\u001b[39;00m\n\u001b[0;32m---> 25\u001b[0m \u001b[43mweather_to_db\u001b[49m\u001b[43m(\u001b[49m\u001b[43m)\u001b[49m\n",
      "Cell \u001b[0;32mIn[54], line 22\u001b[0m, in \u001b[0;36mweather_to_db\u001b[0;34m()\u001b[0m\n\u001b[1;32m     20\u001b[0m     weather_station\u001b[38;5;241m.\u001b[39mget(station)\u001b[38;5;241m.\u001b[39mget(\u001b[38;5;124m'\u001b[39m\u001b[38;5;124mhourly\u001b[39m\u001b[38;5;124m'\u001b[39m)\u001b[38;5;241m.\u001b[39mget(\u001b[38;5;124m'\u001b[39m\u001b[38;5;124mweathercode\u001b[39m\u001b[38;5;124m'\u001b[39m),\n\u001b[1;32m     21\u001b[0m     weather_station\u001b[38;5;241m.\u001b[39mget(station)\u001b[38;5;241m.\u001b[39mget(\u001b[38;5;124m'\u001b[39m\u001b[38;5;124mhourly\u001b[39m\u001b[38;5;124m'\u001b[39m)\u001b[38;5;241m.\u001b[39mget(\u001b[38;5;124m'\u001b[39m\u001b[38;5;124mwindspeed_10m\u001b[39m\u001b[38;5;124m'\u001b[39m)\n\u001b[0;32m---> 22\u001b[0m     \u001b[43mengine\u001b[49m\u001b[38;5;241;43m.\u001b[39;49m\u001b[43mexecute\u001b[49m\u001b[43m(\u001b[49m\u001b[38;5;124;43m\"\u001b[39;49m\u001b[38;5;124;43minsert into weather values(\u001b[39;49m\u001b[38;5;132;43;01m%s\u001b[39;49;00m\u001b[38;5;124;43m,\u001b[39;49m\u001b[38;5;132;43;01m%s\u001b[39;49;00m\u001b[38;5;124;43m,\u001b[39;49m\u001b[38;5;132;43;01m%s\u001b[39;49;00m\u001b[38;5;124;43m,\u001b[39;49m\u001b[38;5;132;43;01m%s\u001b[39;49;00m\u001b[38;5;124;43m,\u001b[39;49m\u001b[38;5;132;43;01m%s\u001b[39;49;00m\u001b[38;5;124;43m,\u001b[39;49m\u001b[38;5;132;43;01m%s\u001b[39;49;00m\u001b[38;5;124;43m,\u001b[39;49m\u001b[38;5;132;43;01m%s\u001b[39;49;00m\u001b[38;5;124;43m,\u001b[39;49m\u001b[38;5;132;43;01m%s\u001b[39;49;00m\u001b[38;5;124;43m,\u001b[39;49m\u001b[38;5;132;43;01m%s\u001b[39;49;00m\u001b[38;5;124;43m,\u001b[39;49m\u001b[38;5;132;43;01m%s\u001b[39;49;00m\u001b[38;5;124;43m)\u001b[39;49m\u001b[38;5;124;43m\"\u001b[39;49m\u001b[43m,\u001b[49m\u001b[43mval\u001b[49m\u001b[43m)\u001b[49m\n\u001b[1;32m     23\u001b[0m     \u001b[38;5;28;01mbreak\u001b[39;00m\n\u001b[1;32m     24\u001b[0m \u001b[38;5;28;01mreturn\u001b[39;00m\n",
      "File \u001b[0;32m<string>:2\u001b[0m, in \u001b[0;36mexecute\u001b[0;34m(self, statement, *multiparams, **params)\u001b[0m\n",
      "File \u001b[0;32m~/opt/anaconda3/envs/comp30830/lib/python3.9/site-packages/sqlalchemy/util/deprecations.py:402\u001b[0m, in \u001b[0;36m_decorate_with_warning.<locals>.warned\u001b[0;34m(fn, *args, **kwargs)\u001b[0m\n\u001b[1;32m    400\u001b[0m \u001b[38;5;28;01mif\u001b[39;00m \u001b[38;5;129;01mnot\u001b[39;00m skip_warning:\n\u001b[1;32m    401\u001b[0m     _warn_with_version(message, version, wtype, stacklevel\u001b[38;5;241m=\u001b[39m\u001b[38;5;241m3\u001b[39m)\n\u001b[0;32m--> 402\u001b[0m \u001b[38;5;28;01mreturn\u001b[39;00m \u001b[43mfn\u001b[49m\u001b[43m(\u001b[49m\u001b[38;5;241;43m*\u001b[39;49m\u001b[43margs\u001b[49m\u001b[43m,\u001b[49m\u001b[43m \u001b[49m\u001b[38;5;241;43m*\u001b[39;49m\u001b[38;5;241;43m*\u001b[39;49m\u001b[43mkwargs\u001b[49m\u001b[43m)\u001b[49m\n",
      "File \u001b[0;32m~/opt/anaconda3/envs/comp30830/lib/python3.9/site-packages/sqlalchemy/engine/base.py:3176\u001b[0m, in \u001b[0;36mEngine.execute\u001b[0;34m(self, statement, *multiparams, **params)\u001b[0m\n\u001b[1;32m   3158\u001b[0m \u001b[38;5;124;03m\"\"\"Executes the given construct and returns a\u001b[39;00m\n\u001b[1;32m   3159\u001b[0m \u001b[38;5;124;03m:class:`_engine.CursorResult`.\u001b[39;00m\n\u001b[1;32m   3160\u001b[0m \n\u001b[0;32m   (...)\u001b[0m\n\u001b[1;32m   3173\u001b[0m \n\u001b[1;32m   3174\u001b[0m \u001b[38;5;124;03m\"\"\"\u001b[39;00m\n\u001b[1;32m   3175\u001b[0m connection \u001b[38;5;241m=\u001b[39m \u001b[38;5;28mself\u001b[39m\u001b[38;5;241m.\u001b[39mconnect(close_with_result\u001b[38;5;241m=\u001b[39m\u001b[38;5;28;01mTrue\u001b[39;00m)\n\u001b[0;32m-> 3176\u001b[0m \u001b[38;5;28;01mreturn\u001b[39;00m \u001b[43mconnection\u001b[49m\u001b[38;5;241;43m.\u001b[39;49m\u001b[43mexecute\u001b[49m\u001b[43m(\u001b[49m\u001b[43mstatement\u001b[49m\u001b[43m,\u001b[49m\u001b[43m \u001b[49m\u001b[38;5;241;43m*\u001b[39;49m\u001b[43mmultiparams\u001b[49m\u001b[43m,\u001b[49m\u001b[43m \u001b[49m\u001b[38;5;241;43m*\u001b[39;49m\u001b[38;5;241;43m*\u001b[39;49m\u001b[43mparams\u001b[49m\u001b[43m)\u001b[49m\n",
      "File \u001b[0;32m~/opt/anaconda3/envs/comp30830/lib/python3.9/site-packages/sqlalchemy/engine/base.py:1291\u001b[0m, in \u001b[0;36mConnection.execute\u001b[0;34m(self, statement, *multiparams, **params)\u001b[0m\n\u001b[1;32m   1282\u001b[0m \u001b[38;5;28;01mif\u001b[39;00m \u001b[38;5;28misinstance\u001b[39m(statement, util\u001b[38;5;241m.\u001b[39mstring_types):\n\u001b[1;32m   1283\u001b[0m     util\u001b[38;5;241m.\u001b[39mwarn_deprecated_20(\n\u001b[1;32m   1284\u001b[0m         \u001b[38;5;124m\"\u001b[39m\u001b[38;5;124mPassing a string to Connection.execute() is \u001b[39m\u001b[38;5;124m\"\u001b[39m\n\u001b[1;32m   1285\u001b[0m         \u001b[38;5;124m\"\u001b[39m\u001b[38;5;124mdeprecated and will be removed in version 2.0.  Use the \u001b[39m\u001b[38;5;124m\"\u001b[39m\n\u001b[0;32m   (...)\u001b[0m\n\u001b[1;32m   1288\u001b[0m         \u001b[38;5;124m\"\u001b[39m\u001b[38;5;124mdriver-level SQL string.\u001b[39m\u001b[38;5;124m\"\u001b[39m\n\u001b[1;32m   1289\u001b[0m     )\n\u001b[0;32m-> 1291\u001b[0m     \u001b[38;5;28;01mreturn\u001b[39;00m \u001b[38;5;28;43mself\u001b[39;49m\u001b[38;5;241;43m.\u001b[39;49m\u001b[43m_exec_driver_sql\u001b[49m\u001b[43m(\u001b[49m\n\u001b[1;32m   1292\u001b[0m \u001b[43m        \u001b[49m\u001b[43mstatement\u001b[49m\u001b[43m,\u001b[49m\n\u001b[1;32m   1293\u001b[0m \u001b[43m        \u001b[49m\u001b[43mmultiparams\u001b[49m\u001b[43m,\u001b[49m\n\u001b[1;32m   1294\u001b[0m \u001b[43m        \u001b[49m\u001b[43mparams\u001b[49m\u001b[43m,\u001b[49m\n\u001b[1;32m   1295\u001b[0m \u001b[43m        \u001b[49m\u001b[43m_EMPTY_EXECUTION_OPTS\u001b[49m\u001b[43m,\u001b[49m\n\u001b[1;32m   1296\u001b[0m \u001b[43m        \u001b[49m\u001b[43mfuture\u001b[49m\u001b[38;5;241;43m=\u001b[39;49m\u001b[38;5;28;43;01mFalse\u001b[39;49;00m\u001b[43m,\u001b[49m\n\u001b[1;32m   1297\u001b[0m \u001b[43m    \u001b[49m\u001b[43m)\u001b[49m\n\u001b[1;32m   1299\u001b[0m \u001b[38;5;28;01mtry\u001b[39;00m:\n\u001b[1;32m   1300\u001b[0m     meth \u001b[38;5;241m=\u001b[39m statement\u001b[38;5;241m.\u001b[39m_execute_on_connection\n",
      "File \u001b[0;32m~/opt/anaconda3/envs/comp30830/lib/python3.9/site-packages/sqlalchemy/engine/base.py:1595\u001b[0m, in \u001b[0;36mConnection._exec_driver_sql\u001b[0;34m(self, statement, multiparams, params, execution_options, future)\u001b[0m\n\u001b[1;32m   1585\u001b[0m         (\n\u001b[1;32m   1586\u001b[0m             statement,\n\u001b[1;32m   1587\u001b[0m             distilled_params,\n\u001b[0;32m   (...)\u001b[0m\n\u001b[1;32m   1591\u001b[0m             statement, distilled_parameters, execution_options\n\u001b[1;32m   1592\u001b[0m         )\n\u001b[1;32m   1594\u001b[0m dialect \u001b[38;5;241m=\u001b[39m \u001b[38;5;28mself\u001b[39m\u001b[38;5;241m.\u001b[39mdialect\n\u001b[0;32m-> 1595\u001b[0m ret \u001b[38;5;241m=\u001b[39m \u001b[38;5;28;43mself\u001b[39;49m\u001b[38;5;241;43m.\u001b[39;49m\u001b[43m_execute_context\u001b[49m\u001b[43m(\u001b[49m\n\u001b[1;32m   1596\u001b[0m \u001b[43m    \u001b[49m\u001b[43mdialect\u001b[49m\u001b[43m,\u001b[49m\n\u001b[1;32m   1597\u001b[0m \u001b[43m    \u001b[49m\u001b[43mdialect\u001b[49m\u001b[38;5;241;43m.\u001b[39;49m\u001b[43mexecution_ctx_cls\u001b[49m\u001b[38;5;241;43m.\u001b[39;49m\u001b[43m_init_statement\u001b[49m\u001b[43m,\u001b[49m\n\u001b[1;32m   1598\u001b[0m \u001b[43m    \u001b[49m\u001b[43mstatement\u001b[49m\u001b[43m,\u001b[49m\n\u001b[1;32m   1599\u001b[0m \u001b[43m    \u001b[49m\u001b[43mdistilled_parameters\u001b[49m\u001b[43m,\u001b[49m\n\u001b[1;32m   1600\u001b[0m \u001b[43m    \u001b[49m\u001b[43mexecution_options\u001b[49m\u001b[43m,\u001b[49m\n\u001b[1;32m   1601\u001b[0m \u001b[43m    \u001b[49m\u001b[43mstatement\u001b[49m\u001b[43m,\u001b[49m\n\u001b[1;32m   1602\u001b[0m \u001b[43m    \u001b[49m\u001b[43mdistilled_parameters\u001b[49m\u001b[43m,\u001b[49m\n\u001b[1;32m   1603\u001b[0m \u001b[43m\u001b[49m\u001b[43m)\u001b[49m\n\u001b[1;32m   1605\u001b[0m \u001b[38;5;28;01mif\u001b[39;00m \u001b[38;5;129;01mnot\u001b[39;00m future:\n\u001b[1;32m   1606\u001b[0m     \u001b[38;5;28;01mif\u001b[39;00m \u001b[38;5;28mself\u001b[39m\u001b[38;5;241m.\u001b[39m_has_events \u001b[38;5;129;01mor\u001b[39;00m \u001b[38;5;28mself\u001b[39m\u001b[38;5;241m.\u001b[39mengine\u001b[38;5;241m.\u001b[39m_has_events:\n",
      "File \u001b[0;32m~/opt/anaconda3/envs/comp30830/lib/python3.9/site-packages/sqlalchemy/engine/base.py:1862\u001b[0m, in \u001b[0;36mConnection._execute_context\u001b[0;34m(self, dialect, constructor, statement, parameters, execution_options, *args, **kw)\u001b[0m\n\u001b[1;32m   1859\u001b[0m             branched\u001b[38;5;241m.\u001b[39mclose()\n\u001b[1;32m   1861\u001b[0m \u001b[38;5;28;01mexcept\u001b[39;00m \u001b[38;5;167;01mBaseException\u001b[39;00m \u001b[38;5;28;01mas\u001b[39;00m e:\n\u001b[0;32m-> 1862\u001b[0m     \u001b[38;5;28;43mself\u001b[39;49m\u001b[38;5;241;43m.\u001b[39;49m\u001b[43m_handle_dbapi_exception\u001b[49m\u001b[43m(\u001b[49m\n\u001b[1;32m   1863\u001b[0m \u001b[43m        \u001b[49m\u001b[43me\u001b[49m\u001b[43m,\u001b[49m\u001b[43m \u001b[49m\u001b[43mstatement\u001b[49m\u001b[43m,\u001b[49m\u001b[43m \u001b[49m\u001b[43mparameters\u001b[49m\u001b[43m,\u001b[49m\u001b[43m \u001b[49m\u001b[43mcursor\u001b[49m\u001b[43m,\u001b[49m\u001b[43m \u001b[49m\u001b[43mcontext\u001b[49m\n\u001b[1;32m   1864\u001b[0m \u001b[43m    \u001b[49m\u001b[43m)\u001b[49m\n\u001b[1;32m   1866\u001b[0m \u001b[38;5;28;01mreturn\u001b[39;00m result\n",
      "File \u001b[0;32m~/opt/anaconda3/envs/comp30830/lib/python3.9/site-packages/sqlalchemy/engine/base.py:2047\u001b[0m, in \u001b[0;36mConnection._handle_dbapi_exception\u001b[0;34m(self, e, statement, parameters, cursor, context)\u001b[0m\n\u001b[1;32m   2043\u001b[0m         util\u001b[38;5;241m.\u001b[39mraise_(\n\u001b[1;32m   2044\u001b[0m             sqlalchemy_exception, with_traceback\u001b[38;5;241m=\u001b[39mexc_info[\u001b[38;5;241m2\u001b[39m], from_\u001b[38;5;241m=\u001b[39me\n\u001b[1;32m   2045\u001b[0m         )\n\u001b[1;32m   2046\u001b[0m     \u001b[38;5;28;01melse\u001b[39;00m:\n\u001b[0;32m-> 2047\u001b[0m         \u001b[43mutil\u001b[49m\u001b[38;5;241;43m.\u001b[39;49m\u001b[43mraise_\u001b[49m\u001b[43m(\u001b[49m\u001b[43mexc_info\u001b[49m\u001b[43m[\u001b[49m\u001b[38;5;241;43m1\u001b[39;49m\u001b[43m]\u001b[49m\u001b[43m,\u001b[49m\u001b[43m \u001b[49m\u001b[43mwith_traceback\u001b[49m\u001b[38;5;241;43m=\u001b[39;49m\u001b[43mexc_info\u001b[49m\u001b[43m[\u001b[49m\u001b[38;5;241;43m2\u001b[39;49m\u001b[43m]\u001b[49m\u001b[43m)\u001b[49m\n\u001b[1;32m   2049\u001b[0m \u001b[38;5;28;01mfinally\u001b[39;00m:\n\u001b[1;32m   2050\u001b[0m     \u001b[38;5;28;01mdel\u001b[39;00m \u001b[38;5;28mself\u001b[39m\u001b[38;5;241m.\u001b[39m_reentrant_error\n",
      "File \u001b[0;32m~/opt/anaconda3/envs/comp30830/lib/python3.9/site-packages/sqlalchemy/util/compat.py:208\u001b[0m, in \u001b[0;36mraise_\u001b[0;34m(***failed resolving arguments***)\u001b[0m\n\u001b[1;32m    205\u001b[0m     exception\u001b[38;5;241m.\u001b[39m__cause__ \u001b[38;5;241m=\u001b[39m replace_context\n\u001b[1;32m    207\u001b[0m \u001b[38;5;28;01mtry\u001b[39;00m:\n\u001b[0;32m--> 208\u001b[0m     \u001b[38;5;28;01mraise\u001b[39;00m exception\n\u001b[1;32m    209\u001b[0m \u001b[38;5;28;01mfinally\u001b[39;00m:\n\u001b[1;32m    210\u001b[0m     \u001b[38;5;66;03m# credit to\u001b[39;00m\n\u001b[1;32m    211\u001b[0m     \u001b[38;5;66;03m# https://cosmicpercolator.com/2016/01/13/exception-leaks-in-python-2-and-3/\u001b[39;00m\n\u001b[1;32m    212\u001b[0m     \u001b[38;5;66;03m# as the __traceback__ object creates a cycle\u001b[39;00m\n\u001b[1;32m    213\u001b[0m     \u001b[38;5;28;01mdel\u001b[39;00m exception, replace_context, from_, with_traceback\n",
      "File \u001b[0;32m~/opt/anaconda3/envs/comp30830/lib/python3.9/site-packages/sqlalchemy/engine/base.py:1819\u001b[0m, in \u001b[0;36mConnection._execute_context\u001b[0;34m(self, dialect, constructor, statement, parameters, execution_options, *args, **kw)\u001b[0m\n\u001b[1;32m   1817\u001b[0m                 \u001b[38;5;28;01mbreak\u001b[39;00m\n\u001b[1;32m   1818\u001b[0m     \u001b[38;5;28;01mif\u001b[39;00m \u001b[38;5;129;01mnot\u001b[39;00m evt_handled:\n\u001b[0;32m-> 1819\u001b[0m         \u001b[38;5;28;43mself\u001b[39;49m\u001b[38;5;241;43m.\u001b[39;49m\u001b[43mdialect\u001b[49m\u001b[38;5;241;43m.\u001b[39;49m\u001b[43mdo_execute\u001b[49m\u001b[43m(\u001b[49m\n\u001b[1;32m   1820\u001b[0m \u001b[43m            \u001b[49m\u001b[43mcursor\u001b[49m\u001b[43m,\u001b[49m\u001b[43m \u001b[49m\u001b[43mstatement\u001b[49m\u001b[43m,\u001b[49m\u001b[43m \u001b[49m\u001b[43mparameters\u001b[49m\u001b[43m,\u001b[49m\u001b[43m \u001b[49m\u001b[43mcontext\u001b[49m\n\u001b[1;32m   1821\u001b[0m \u001b[43m        \u001b[49m\u001b[43m)\u001b[49m\n\u001b[1;32m   1823\u001b[0m \u001b[38;5;28;01mif\u001b[39;00m \u001b[38;5;28mself\u001b[39m\u001b[38;5;241m.\u001b[39m_has_events \u001b[38;5;129;01mor\u001b[39;00m \u001b[38;5;28mself\u001b[39m\u001b[38;5;241m.\u001b[39mengine\u001b[38;5;241m.\u001b[39m_has_events:\n\u001b[1;32m   1824\u001b[0m     \u001b[38;5;28mself\u001b[39m\u001b[38;5;241m.\u001b[39mdispatch\u001b[38;5;241m.\u001b[39mafter_cursor_execute(\n\u001b[1;32m   1825\u001b[0m         \u001b[38;5;28mself\u001b[39m,\n\u001b[1;32m   1826\u001b[0m         cursor,\n\u001b[0;32m   (...)\u001b[0m\n\u001b[1;32m   1830\u001b[0m         context\u001b[38;5;241m.\u001b[39mexecutemany,\n\u001b[1;32m   1831\u001b[0m     )\n",
      "File \u001b[0;32m~/opt/anaconda3/envs/comp30830/lib/python3.9/site-packages/sqlalchemy/engine/default.py:732\u001b[0m, in \u001b[0;36mDefaultDialect.do_execute\u001b[0;34m(self, cursor, statement, parameters, context)\u001b[0m\n\u001b[1;32m    731\u001b[0m \u001b[38;5;28;01mdef\u001b[39;00m \u001b[38;5;21mdo_execute\u001b[39m(\u001b[38;5;28mself\u001b[39m, cursor, statement, parameters, context\u001b[38;5;241m=\u001b[39m\u001b[38;5;28;01mNone\u001b[39;00m):\n\u001b[0;32m--> 732\u001b[0m     \u001b[43mcursor\u001b[49m\u001b[38;5;241;43m.\u001b[39;49m\u001b[43mexecute\u001b[49m\u001b[43m(\u001b[49m\u001b[43mstatement\u001b[49m\u001b[43m,\u001b[49m\u001b[43m \u001b[49m\u001b[43mparameters\u001b[49m\u001b[43m)\u001b[49m\n",
      "File \u001b[0;32m~/opt/anaconda3/envs/comp30830/lib/python3.9/site-packages/MySQLdb/cursors.py:196\u001b[0m, in \u001b[0;36mBaseCursor.execute\u001b[0;34m(self, query, args)\u001b[0m\n\u001b[1;32m    194\u001b[0m         \u001b[38;5;28;01mif\u001b[39;00m \u001b[38;5;28misinstance\u001b[39m(key, \u001b[38;5;28mstr\u001b[39m):\n\u001b[1;32m    195\u001b[0m             key \u001b[38;5;241m=\u001b[39m key\u001b[38;5;241m.\u001b[39mencode(db\u001b[38;5;241m.\u001b[39mencoding)\n\u001b[0;32m--> 196\u001b[0m         nargs[key] \u001b[38;5;241m=\u001b[39m \u001b[43mdb\u001b[49m\u001b[38;5;241;43m.\u001b[39;49m\u001b[43mliteral\u001b[49m\u001b[43m(\u001b[49m\u001b[43mitem\u001b[49m\u001b[43m)\u001b[49m\n\u001b[1;32m    197\u001b[0m     args \u001b[38;5;241m=\u001b[39m nargs\n\u001b[1;32m    198\u001b[0m \u001b[38;5;28;01melse\u001b[39;00m:\n",
      "File \u001b[0;32m~/opt/anaconda3/envs/comp30830/lib/python3.9/site-packages/MySQLdb/connections.py:288\u001b[0m, in \u001b[0;36mConnection.literal\u001b[0;34m(self, o)\u001b[0m\n\u001b[1;32m    286\u001b[0m     s \u001b[38;5;241m=\u001b[39m \u001b[38;5;28mself\u001b[39m\u001b[38;5;241m.\u001b[39m_tuple_literal(o)\n\u001b[1;32m    287\u001b[0m \u001b[38;5;28;01melse\u001b[39;00m:\n\u001b[0;32m--> 288\u001b[0m     s \u001b[38;5;241m=\u001b[39m \u001b[38;5;28;43mself\u001b[39;49m\u001b[38;5;241;43m.\u001b[39;49m\u001b[43mescape\u001b[49m\u001b[43m(\u001b[49m\u001b[43mo\u001b[49m\u001b[43m,\u001b[49m\u001b[43m \u001b[49m\u001b[38;5;28;43mself\u001b[39;49m\u001b[38;5;241;43m.\u001b[39;49m\u001b[43mencoders\u001b[49m\u001b[43m)\u001b[49m\n\u001b[1;32m    289\u001b[0m     \u001b[38;5;28;01mif\u001b[39;00m \u001b[38;5;28misinstance\u001b[39m(s, \u001b[38;5;28mstr\u001b[39m):\n\u001b[1;32m    290\u001b[0m         s \u001b[38;5;241m=\u001b[39m s\u001b[38;5;241m.\u001b[39mencode(\u001b[38;5;28mself\u001b[39m\u001b[38;5;241m.\u001b[39mencoding)\n",
      "\u001b[0;31mUnicodeEncodeError\u001b[0m: 'ascii' codec can't encode character '\\xb0' in position 40: ordinal not in range(128)"
     ]
    }
   ],
   "source": [
    "print(type(weather_station))\n",
    "# for keys, values in weather_station:\n",
    "#     print (key,values)\n",
    "print(type(weather_station.keys()))\n",
    "# print(weather_station[42]['hourly']['time'][0])\n",
    "# print(weather_station[42]['hourly']['temperature_2m'][0])\n",
    "# def weather_to_db(text):\n",
    "\n",
    "def weather_to_db():\n",
    "    for station in weather_station:\n",
    "        print(weather_station.get(station))\n",
    "        val = weather_station.get(station),\n",
    "        weather_station.get(station).get('current_weather').get('time'),\n",
    "        weather_station.get(station).get('current_weather').get('temperature'),\n",
    "        weather_station.get(station).get('current_weather').get('weathercode'),\n",
    "        weather_station.get(station).get('current_weather').get('windspeed'),\n",
    "        weather_station.get(station).get('hourly').get('time'),\n",
    "        weather_station.get(station).get('hourly').get('temperature_2m'),\n",
    "        weather_station.get(station).get('hourly').get('precipitation_probability'),\n",
    "        weather_station.get(station).get('hourly').get('weathercode'),\n",
    "        weather_station.get(station).get('hourly').get('windspeed_10m')\n",
    "        engine.execute(\"insert into weather values(%s,%s,%s,%s,%s,%s,%s,%s,%s,%s)\",val)\n",
    "        break\n",
    "    return\n",
    "weather_to_db()"
   ]
  },
  {
   "cell_type": "code",
   "execution_count": null,
   "id": "3c222940",
   "metadata": {},
   "outputs": [],
   "source": []
  },
  {
   "cell_type": "code",
   "execution_count": 11,
   "id": "0ed9ade0",
   "metadata": {},
   "outputs": [
    {
     "name": "stdout",
     "output_type": "stream",
     "text": [
      "{'temperature': 6.1, 'windspeed': 11.8, 'winddirection': 20.0, 'weathercode': 3, 'time': 1677621600}\n"
     ]
    }
   ],
   "source": [
    "print(weather_dict['current_weather'])"
   ]
  },
  {
   "cell_type": "code",
   "execution_count": 13,
   "id": "1a5d3e26",
   "metadata": {},
   "outputs": [
    {
     "name": "stdout",
     "output_type": "stream",
     "text": [
      "[1677542400, 1677546000, 1677549600, 1677553200, 1677556800, 1677560400, 1677564000, 1677567600, 1677571200, 1677574800, 1677578400, 1677582000, 1677585600, 1677589200, 1677592800, 1677596400, 1677600000, 1677603600, 1677607200, 1677610800, 1677614400, 1677618000, 1677621600, 1677625200, 1677628800, 1677632400, 1677636000, 1677639600, 1677643200, 1677646800, 1677650400, 1677654000, 1677657600, 1677661200, 1677664800, 1677668400, 1677672000, 1677675600, 1677679200, 1677682800, 1677686400, 1677690000, 1677693600, 1677697200, 1677700800, 1677704400, 1677708000, 1677711600, 1677715200, 1677718800, 1677722400, 1677726000, 1677729600, 1677733200, 1677736800, 1677740400, 1677744000, 1677747600, 1677751200, 1677754800, 1677758400, 1677762000, 1677765600, 1677769200, 1677772800, 1677776400, 1677780000, 1677783600, 1677787200, 1677790800, 1677794400, 1677798000, 1677801600, 1677805200, 1677808800, 1677812400, 1677816000, 1677819600, 1677823200, 1677826800, 1677830400, 1677834000, 1677837600, 1677841200, 1677844800, 1677848400, 1677852000, 1677855600, 1677859200, 1677862800, 1677866400, 1677870000, 1677873600, 1677877200, 1677880800, 1677884400, 1677888000, 1677891600, 1677895200, 1677898800, 1677902400, 1677906000, 1677909600, 1677913200, 1677916800, 1677920400, 1677924000, 1677927600, 1677931200, 1677934800, 1677938400, 1677942000, 1677945600, 1677949200, 1677952800, 1677956400, 1677960000, 1677963600, 1677967200, 1677970800, 1677974400, 1677978000, 1677981600, 1677985200, 1677988800, 1677992400, 1677996000, 1677999600, 1678003200, 1678006800, 1678010400, 1678014000, 1678017600, 1678021200, 1678024800, 1678028400, 1678032000, 1678035600, 1678039200, 1678042800, 1678046400, 1678050000, 1678053600, 1678057200, 1678060800, 1678064400, 1678068000, 1678071600, 1678075200, 1678078800, 1678082400, 1678086000, 1678089600, 1678093200, 1678096800, 1678100400, 1678104000, 1678107600, 1678111200, 1678114800, 1678118400, 1678122000, 1678125600, 1678129200, 1678132800, 1678136400, 1678140000, 1678143600]\n"
     ]
    }
   ],
   "source": [
    "print(weather_dict['hourly']['time'])"
   ]
  },
  {
   "cell_type": "code",
   "execution_count": 14,
   "id": "7910dda6",
   "metadata": {},
   "outputs": [
    {
     "name": "stdout",
     "output_type": "stream",
     "text": [
      "[7.0, 7.4, 7.7, 7.1, 6.7, 5.2, 6.1, 7.1, 6.6, 7.0, 7.9, 8.0, 7.7, 7.9, 8.3, 8.2, 8.0, 7.5, 7.2, 6.6, 6.5, 6.2, 6.1, 6.8, 7.4, 7.2, 7.1, 7.2, 7.0, 6.9, 6.7, 7.4, 6.9, 7.0, 7.4, 7.3, 8.0, 7.8, 7.1, 7.4, 7.7, 7.5, 7.3, 6.9, 7.1, 6.9, 7.0, 7.3, 7.2, 7.3, 7.3, 7.2, 7.1, 7.2, 6.8, 4.4, 4.2, 5.3, 6.7, 6.9, 7.0, 7.1, 7.6, 7.7, 7.4, 6.9, 5.7, 4.5, 3.9, 3.6, 3.9, 3.5, 2.8, 2.7, 3.1, 2.8, 2.1, 2.5, 3.0, 3.3, 3.5, 4.4, 5.1, 6.0, 7.1, 7.8, 8.3, 8.6, 8.2, 7.5, 6.7, 5.5, 4.4, 3.4, 2.7, 2.6, 3.0, 2.8, 2.9, 3.0, 3.1, 3.6, 3.8, 3.5, 3.5, 3.9, 4.8, 6.1, 7.5, 7.9, 8.0, 7.9, 7.7, 7.5, 7.0, 6.4, 5.8, 4.8, 3.8, 2.8, 1.7, 1.3, 1.2, 1.1, 1.0, 1.0, 1.1, 1.2, 1.4, 2.2, 3.5, 5.1, 7.0, 7.7, 8.1, 8.2, 8.0, 7.6, 7.1, 5.3, 4.4, 3.5, 3.4, 3.6, 3.9, 4.0, 4.1, 4.2, 4.2, 4.2, 4.1, 3.9, 3.8, 3.8, 4.2, 4.7, 5.5, 5.9, 6.3, 6.5, 6.2, 5.7, 4.8, 4.1, 3.2, 2.2, 1.6, 1.1]\n"
     ]
    }
   ],
   "source": [
    "print(weather_dict['hourly']['temperature_2m'])"
   ]
  },
  {
   "cell_type": "code",
   "execution_count": 18,
   "id": "cc8ea1ee",
   "metadata": {},
   "outputs": [],
   "source": [
    "string= '[1677542400, 1677546000, 1677549600, 1677553200, 1677556800, 1677560400, 1677564000, 1677567600, 1677571200, 1677574800, 1677578400, 1677582000, 1677585600, 1677589200, 1677592800, 1677596400, 1677600000, 1677603600, 1677607200, 1677610800, 1677614400, 1677618000, 1677621600, 1677625200, 1677628800, 1677632400, 1677636000, 1677639600, 1677643200, 1677646800, 1677650400, 1677654000, 1677657600, 1677661200, 1677664800, 1677668400, 1677672000, 1677675600, 1677679200, 1677682800, 1677686400, 1677690000, 1677693600, 1677697200, 1677700800, 1677704400, 1677708000, 1677711600, 1677715200, 1677718800, 1677722400, 1677726000, 1677729600, 1677733200, 1677736800, 1677740400, 1677744000, 1677747600, 1677751200, 1677754800, 1677758400, 1677762000, 1677765600, 1677769200, 1677772800, 1677776400, 1677780000, 1677783600, 1677787200, 1677790800, 1677794400, 1677798000, 1677801600, 1677805200, 1677808800, 1677812400, 1677816000, 1677819600, 1677823200, 1677826800, 1677830400, 1677834000, 1677837600, 1677841200, 1677844800, 1677848400, 1677852000, 1677855600, 1677859200, 1677862800, 1677866400, 1677870000, 1677873600, 1677877200, 1677880800, 1677884400, 1677888000, 1677891600, 1677895200, 1677898800, 1677902400, 1677906000, 1677909600, 1677913200, 1677916800, 1677920400, 1677924000, 1677927600, 1677931200, 1677934800, 1677938400, 1677942000, 1677945600, 1677949200, 1677952800, 1677956400, 1677960000, 1677963600, 1677967200, 1677970800, 1677974400, 1677978000, 1677981600, 1677985200, 1677988800, 1677992400, 1677996000, 1677999600, 1678003200, 1678006800, 1678010400, 1678014000, 1678017600, 1678021200, 1678024800, 1678028400, 1678032000, 1678035600, 1678039200, 1678042800, 1678046400, 1678050000, 1678053600, 1678057200, 1678060800, 1678064400, 1678068000, 1678071600, 1678075200, 1678078800, 1678082400, 1678086000, 1678089600, 1678093200, 1678096800, 1678100400, 1678104000, 1678107600, 1678111200, 1678114800, 1678118400, 1678122000, 1678125600, 1678129200, 1678132800, 1678136400, 1678140000, 1678143600]'\n",
    "time=json.loads(string)"
   ]
  },
  {
   "cell_type": "code",
   "execution_count": 19,
   "id": "40074800",
   "metadata": {},
   "outputs": [
    {
     "name": "stdout",
     "output_type": "stream",
     "text": [
      "<class 'str'>\n",
      "<class 'list'>\n"
     ]
    }
   ],
   "source": [
    "print(type(string))\n",
    "print(type(time))"
   ]
  }
 ],
 "metadata": {
  "kernelspec": {
   "display_name": "Python 3 (ipykernel)",
   "language": "python",
   "name": "python3"
  },
  "language_info": {
   "codemirror_mode": {
    "name": "ipython",
    "version": 3
   },
   "file_extension": ".py",
   "mimetype": "text/x-python",
   "name": "python",
   "nbconvert_exporter": "python",
   "pygments_lexer": "ipython3",
   "version": "3.9.16"
  },
  "vscode": {
   "interpreter": {
    "hash": "aee8b7b246df8f9039afb4144a1f6fd8d2ca17a180786b69acc140d282b71a49"
   }
  }
 },
 "nbformat": 4,
 "nbformat_minor": 5
}
